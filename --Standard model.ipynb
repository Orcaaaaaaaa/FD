{
 "cells": [
  {
   "cell_type": "code",
   "execution_count": null,
   "metadata": {},
   "outputs": [],
   "source": [
    "'''5/6 \n",
    "        std_image(mylist)\n",
    "            해당 폴더안의 이미지들의 Fourier Descriptor(imag, real)의 평균값을 std_imag와 std_real 두가지 요소를 갖는 DataFrame으로 반환\n",
    "            \n",
    "        fdrecon2(def fdrecon2(title, N, sig_num, df)\n",
    "            fdrecon()와 동일한 방식으로 작동 / 해당 이미지의 Source image 이름과 입경 정보를 포함한 형태로 사진 저장   ex.주문진표준사_0.100-0.300mm_Standard Figure.png'''"
   ]
  },
  {
   "cell_type": "code",
   "execution_count": 1,
   "metadata": {
    "tags": []
   },
   "outputs": [],
   "source": [
    "%matplotlib inline\n",
    "import sys\n",
    "sys.path.append('C:\\\\Users\\\\cysdh\\\\anaconda3\\\\Lib\\\\site-packages')\n",
    "\n",
    "import cv2\n",
    "import numpy as np\n",
    "import scipy\n",
    "from scipy.stats import lognorm\n",
    "import os\n",
    "import pandas as pd\n",
    "import matplotlib.pyplot as plt\n",
    "from matplotlib.pyplot import cm"
   ]
  },
  {
   "cell_type": "code",
   "execution_count": 2,
   "metadata": {
    "tags": []
   },
   "outputs": [],
   "source": [
    "def fcall(img_nm):\n",
    "    \n",
    "    #대상 이미지 파일의 확장자를 확인할 것.\n",
    "    filename = img_nm+'.png'\n",
    "\n",
    "    # Load the image and convert it to grayscale:\n",
    "    image = cv2.imread(filename)\n",
    "    gray_image = cv2.cvtColor(image, cv2.COLOR_BGR2GRAY)\n",
    "    \n",
    "    #cv2.THRESH_BINARY 인지 cv2.THRESH_BINARY_INV 꼭 확인할것!\n",
    "    ret, thresh = cv2.threshold(gray_image, 50, 255, cv2.THRESH_BINARY_INV)\n",
    "    \n",
    "    print(thresh)\n",
    "    \n",
    "    return thresh"
   ]
  },
  {
   "cell_type": "code",
   "execution_count": 13,
   "metadata": {},
   "outputs": [
    {
     "name": "stdout",
     "output_type": "stream",
     "text": [
      "[[0 0 0 ... 0 0 0]\n",
      " [0 0 0 ... 0 0 0]\n",
      " [0 0 0 ... 0 0 0]\n",
      " ...\n",
      " [0 0 0 ... 0 0 0]\n",
      " [0 0 0 ... 0 0 0]\n",
      " [0 0 0 ... 0 0 0]]\n",
      "[[0 0 0 ... 0 0 0]\n",
      " [0 0 0 ... 0 0 0]\n",
      " [0 0 0 ... 0 0 0]\n",
      " ...\n",
      " [0 0 0 ... 0 0 0]\n",
      " [0 0 0 ... 0 0 0]\n",
      " [0 0 0 ... 0 0 0]]\n",
      "[[0 0 0 ... 0 0 0]\n",
      " [0 0 0 ... 0 0 0]\n",
      " [0 0 0 ... 0 0 0]\n",
      " ...\n",
      " [0 0 0 ... 0 0 0]\n",
      " [0 0 0 ... 0 0 0]\n",
      " [0 0 0 ... 0 0 0]]\n",
      "[[255 255 255 ... 255 255 255]\n",
      " [255 255 255 ... 255 255 255]\n",
      " [255 255 255 ... 255 255 255]\n",
      " ...\n",
      " [255 255 255 ... 255 255 255]\n",
      " [255 255 255 ... 255 255 255]\n",
      " [255 255 255 ... 255 255 255]]\n"
     ]
    }
   ],
   "source": [
    "import glob\n",
    "mylist = [f for f in sorted(glob.glob(\"*.png\"))]  #읽어들일 파일의 확장자 확인할것\n",
    "\n",
    "for img_nm in mylist[:]:\n",
    "    title = img_nm[:-4]\n",
    "    fcall(title)"
   ]
  },
  {
   "cell_type": "code",
   "execution_count": null,
   "metadata": {},
   "outputs": [],
   "source": [
    "import glob\n",
    "mylist = [f for f in sorted(glob.glob(\"*.png\"))]  #읽어들일 파일의 확장자 확인할것\n",
    "\n",
    "for img_nm in mylist[:]:\n",
    "    print(img_nm[:-4])\n",
    "    title = img_nm[:-4]\n",
    "    df1,df2,df3,eqd = dcfft(title,numOfseg,sig_num)\n",
    "    mag  = pd.concat([mag, df1['mag']],axis=1)\n",
    "    real = pd.concat([real,df1['real']],axis=1)\n",
    "    imag = pd.concat([imag,df1['imag']],axis=1)\n",
    "    x0 = pd.concat([x0,df3['x0']],axis=1)\n",
    "    y0 = pd.concat([y0,df3['y0']],axis=1)\n",
    "    d = pd.DataFrame([eqd])\n",
    "    eqdia = pd.concat([eqdia,d],axis=1)\n",
    "    \n",
    "mag = mag.set_index('idx')    \n",
    "real = real.set_index('idx')\n",
    "imag = imag.set_index('idx')\n",
    "\n",
    "mag.columns = mylist\n",
    "real.columns = mylist\n",
    "imag.columns = mylist\n",
    "x0.columns = mylist\n",
    "y0.columns = mylist\n",
    "eqdia.columns = mylist\n",
    "\n",
    "#display(mag,real,imag)"
   ]
  },
  {
   "cell_type": "code",
   "execution_count": null,
   "metadata": {
    "tags": []
   },
   "outputs": [],
   "source": [
    "def find_a_contour(thresh):\n",
    "    contours, hierarchy = cv2.findContours(\n",
    "        thresh, \n",
    "        cv2.RETR_EXTERNAL, \n",
    "        cv2.CHAIN_APPROX_NONE)\n",
    "    ncnt = len(contours[:]) #ncnt = number of contour lines\n",
    "    chk = 0 #chk은 w번째 경계면을 이루는 좌표의 갯수이다\n",
    "    set = 0 #set이 내가 찾고 싶은 경계면의 번호이다\n",
    "    for w in range(ncnt):\n",
    "       if chk < len(contours[w]):\n",
    "            chk = len(contours[w])\n",
    "            set = w\n",
    "    # 찾은 contour 좌표를 contour_array에 저장한다\n",
    "    contour_array=contours[set][:,0,:]\n",
    "\n",
    "    # 폐합된(closed) 다각형(polygon) 좌표군을 생성한다.\n",
    "    polyg = np.append(contour_array, contour_array[0,:].reshape(1,2), axis=0)\n",
    "    \n",
    "    # Equivalent diameter를 구한다.\n",
    "    area = cv2.contourArea(contours[set])\n",
    "    equi_diameter = np.sqrt(4*area/np.pi)\n",
    "    \n",
    "    return contour_array, polyg, equi_diameter\n"
   ]
  },
  {
   "cell_type": "code",
   "execution_count": null,
   "metadata": {
    "tags": []
   },
   "outputs": [],
   "source": [
    "def find_eqdpt(polyg, numOfSegments):\n",
    "\n",
    "    #Find Contour Perimeter\n",
    "    perimeter = cv2.arcLength(polyg,True)\n",
    "\n",
    "    #Find Segment length\n",
    "    SegLength = perimeter/numOfSegments\n",
    "\n",
    "    lastpt = polyg[0:1] #제일 첫 point를 last point로 설정\n",
    "    eqdpt  = polyg[0:1]\n",
    "    polyIdx = 0\n",
    "    lenToGo = SegLength\n",
    "\n",
    "    while len(eqdpt)<numOfSegments:\n",
    "        lenOnPolyline = np.linalg.norm(polyg[polyIdx+1]-lastpt)\n",
    "        if lenOnPolyline > lenToGo:\n",
    "            unitv = polyg[polyIdx+1]-lastpt\n",
    "            unitv = unitv / np.linalg.norm(unitv)       \n",
    "            lastpt = unitv*lenToGo + lastpt\n",
    "            eqdpt = np.append(eqdpt,lastpt.reshape(1,2),axis=0)\n",
    "            lenToGo = SegLength\n",
    "        else:\n",
    "            lenToGo = lenToGo - lenOnPolyline\n",
    "            polyIdx += 1\n",
    "            lastpt = polyg[polyIdx]    \n",
    "    \n",
    "    return eqdpt"
   ]
  },
  {
   "cell_type": "code",
   "execution_count": null,
   "metadata": {
    "tags": []
   },
   "outputs": [],
   "source": [
    "def trans_eqdpt(eqdpt, polyg, contour_array):\n",
    "    # Find Centroid\n",
    "    M = cv2.moments(contour_array)\n",
    "    cX = np.int32(M[\"m10\"]/M[\"m00\"])\n",
    "    cY = np.int32(M[\"m01\"]/M[\"m00\"])\n",
    "\n",
    "    # Translate Contour points\n",
    "    centroid = np.empty(contour_array.shape)\n",
    "    centroid[:,0] = cX\n",
    "    centroid[:,1] = cY\n",
    "    contour_array = contour_array - centroid\n",
    "\n",
    "    centroid = np.empty(polyg.shape)\n",
    "    centroid[:,0] = cX\n",
    "    centroid[:,1] = cY\n",
    "    polyg = polyg - centroid\n",
    "        \n",
    "    centroid = np.empty(eqdpt.shape)\n",
    "    centroid[:,0] = cX\n",
    "    centroid[:,1] = cY\n",
    "    \n",
    "    eqdpt = eqdpt - centroid\n",
    "    \n",
    "    return eqdpt, polyg, contour_array"
   ]
  },
  {
   "cell_type": "code",
   "execution_count": null,
   "metadata": {
    "tags": []
   },
   "outputs": [],
   "source": [
    "def find_FD(eqdpt,sig_num):\n",
    "\n",
    "    # 푸리에 변환에 사용할 절점 g의 갯수 = M\n",
    "    M = len(eqdpt)    \n",
    "    \n",
    "    #2차원 Fourier 변환을 위한 준비(복소수형태로 좌표를 변환시킴) --> fft 변환 --> fourier_result에 coef값 저장\n",
    "    eqdpt_complex = np.empty(eqdpt.shape[:-1],dtype=complex)\n",
    "    eqdpt_complex.real = eqdpt[:,0]\n",
    "    eqdpt_complex.imag = eqdpt[:,1]\n",
    "\n",
    "    fft_result = np.fft.fft(eqdpt_complex)  # np.fft.fft로 구한 coef값은 1/M되지 않았다.\n",
    "    fft_result = fft_result/M  # 1/M로 나눠주었다.\n",
    "    fftshifted = np.fft.fftshift(fft_result)  # fftshift가 zero-freq를 중앙으로 위치시킨다.\n",
    "    \n",
    "    #sig_num 가 몇개를 추출할지 결정 (pair의 갯수임)\n",
    "    if (len(fftshifted) % 2) == 0:\n",
    "        center_index = len(fftshifted)/2\n",
    "    else:\n",
    "        center_index = (len(fftshifted)+1)/2\n",
    "    start = np.int32(center_index - sig_num)\n",
    "    end   = np.int32(center_index + sig_num) +1\n",
    "\n",
    "    #print('center,start,end=',center_index,start,end)\n",
    "    \n",
    "    G = fftshifted[start:end]  #start와 end 사이의 중앙값이 가장 큰 coef를 가진다.\n",
    "    \n",
    "    # Calculate Magnitude of Fourier Descriptor Coefficients\n",
    "    G_real = G.real\n",
    "    G_imag = G.imag\n",
    "    G_mag  = np.sqrt(G_real**2+G_imag**2)\n",
    "    \n",
    "    return G_mag, G_real, G_imag, fft_result, fftshifted"
   ]
  },
  {
   "cell_type": "code",
   "execution_count": null,
   "metadata": {
    "tags": []
   },
   "outputs": [],
   "source": [
    "def dcfft(img_nm,numOfseg,sig_num):\n",
    "\n",
    "    thresh = fcall(img_nm)\n",
    "    \n",
    "    #입자 이미지의 경계면 좌표를 찾는다.\n",
    "    contour_array, polyg, eqdia = find_a_contour(thresh)\n",
    "    \n",
    "    print(img_nm,eqdia,'Equ_dia')\n",
    "    \n",
    "    #앞서 얻은 경계면 좌표 간격은 일정하지 않다. 이를 일정한 간격이 되도록 좌표를 다시 찾는다.\n",
    "    #numOfSegments = by input param   #등간격 세그먼트의 숫자를 지정한다. 2^n 으로 지정\n",
    "    eqdpt = find_eqdpt(polyg, numOfseg)\n",
    "    \n",
    "    #좌표군들의 도심이 원점이 되도록 이동(translation)시킨다.\n",
    "    eqdpt, polyg, contour_array = trans_eqdpt(eqdpt, polyg, contour_array)\n",
    "\n",
    "    #FFT를 실시하여 Fourier Descriptor를 찾는다.\n",
    "    #sig_num = by input param         #중심을 기준으로 추출할 FD의 갯수를 정한다.\n",
    "    idx = pd.DataFrame({'idx':np.arange(-sig_num,sig_num+1)})\n",
    "    \n",
    "    a,b,c,d,e = find_FD(eqdpt,sig_num)\n",
    "    \n",
    "    df1 = pd.DataFrame({'mag':a,'real':b,'imag':c})\n",
    "    df2 = pd.DataFrame({'fft_result':d,'fftshift_result':e})\n",
    "    df3 = pd.DataFrame({'x0':eqdpt[:,0],'y0':eqdpt[:,1]})\n",
    "    \n",
    "    return df1, df2, df3, eqdia"
   ]
  },
  {
   "cell_type": "code",
   "execution_count": null,
   "metadata": {
    "tags": []
   },
   "outputs": [],
   "source": [
    "def fdrecon(title,N,sig_num,real,imag):\n",
    "    \n",
    "    x1 = []\n",
    "    y1 = []\n",
    "    \n",
    "    for k in np.arange(0,N,1):\n",
    "        t = k/N\n",
    "        x = 0\n",
    "        y = 0\n",
    "\n",
    "        for m in np.arange(-sig_num,sig_num+1):\n",
    "            phi = 2 * np.pi * m * t\n",
    "        \n",
    "            A = real.loc[m,title]\n",
    "            B = imag.loc[m,title]\n",
    "        \n",
    "            x += A*np.cos(phi)-B*np.sin(phi)\n",
    "            y += A*np.sin(phi)+B*np.cos(phi)\n",
    "    \n",
    "        x1.append(x)\n",
    "        y1.append(y)\n",
    "    \n",
    "    df = pd.DataFrame({'x1':x1,'y1':y1})\n",
    "    \n",
    "    return df"
   ]
  },
  {
   "cell_type": "code",
   "execution_count": null,
   "metadata": {},
   "outputs": [],
   "source": [
    "def fdrecon2(title, N, sig_num, df):\n",
    "    x1 = []\n",
    "    y1 = []\n",
    "\n",
    "    for k in np.arange(0, N, 1):\n",
    "        t = k / N\n",
    "        x = 0\n",
    "        y = 0\n",
    "\n",
    "        for m in np.arange(-sig_num, sig_num + 1):\n",
    "            phi = 2 * np.pi * m * t\n",
    "            A = df.loc[m, 'std_real']\n",
    "            B = df.loc[m, 'std_imag']\n",
    "            x += A * np.cos(phi) - B * np.sin(phi)\n",
    "            y += A * np.sin(phi) + B * np.cos(phi)\n",
    "\n",
    "        x1.append(x)\n",
    "        y1.append(y)\n",
    "\n",
    "    # Remove the axis and grid lines\n",
    "    plt.axis('off')\n",
    "    plt.grid(False)\n",
    "    \n",
    "    plt.plot(x1, y1, marker='+', linestyle='None', color='black')\n",
    "    \n",
    "    # set the title of the histogram to the name of the folder where the image is saved\n",
    "    cwd = os.getcwd()\n",
    "    parent_folder_name = os.path.basename(os.path.dirname(cwd))\n",
    "    current_folder_name = os.path.basename(cwd)\n",
    "    folder_path = os.path.join(cwd, \"Pictures\")\n",
    "\n",
    "    plt.title(f\"{parent_folder_name}_{current_folder_name}\")\n",
    "\n",
    "    os.makedirs(folder_path, exist_ok=True)\n",
    "    file_name = f\"{parent_folder_name}_{current_folder_name}_Standard Figure.png\"\n",
    "    save_path = os.path.join(folder_path, file_name)\n",
    "    fig = plt.gcf()\n",
    "    fig.savefig(save_path, dpi=300, bbox_inches='tight')\n",
    "\n",
    "    # Show the plot\n",
    "    plt.show()"
   ]
  },
  {
   "cell_type": "code",
   "execution_count": null,
   "metadata": {
    "tags": []
   },
   "outputs": [],
   "source": [
    "def std_image(mylist):\n",
    "    \n",
    "    std_imag = imag.mean(axis='columns')\n",
    "    std_real = real.mean(axis='columns')\n",
    "    \n",
    "    df = pd.DataFrame({'std_imag':std_imag,'std_real':std_real})\n",
    "    \n",
    "    return df"
   ]
  },
  {
   "cell_type": "code",
   "execution_count": null,
   "metadata": {
    "tags": []
   },
   "outputs": [],
   "source": [
    "def mean_and_std(df):\n",
    "    # Set the diagonal and upper triangular values to NaN\n",
    "    df = df.where(np.triu(np.ones(df.shape), k=1).astype(bool))\n",
    "    # Get the mean and standard deviation of the remaining values\n",
    "    mean = df.stack().mean()\n",
    "    std = df.stack().std()\n",
    "    return mean, std"
   ]
  },
  {
   "cell_type": "code",
   "execution_count": null,
   "metadata": {
    "tags": []
   },
   "outputs": [],
   "source": [
    "numOfseg = 128   #[중요] 등간격 세그먼트의 숫자를 지정한다. 2^n 으로 지정\n",
    "sig_num = 20      #[중요] Zero-Freq 중심을 기준으로 아래 위로 추출할 FD의 갯수를 정한다. (Pair의 숫자임)"
   ]
  },
  {
   "cell_type": "code",
   "execution_count": null,
   "metadata": {
    "tags": []
   },
   "outputs": [],
   "source": [
    "import glob\n",
    "mylist = [f for f in sorted(glob.glob(\"*.png\"))]  #읽어들일 파일의 확장자 확인할것\n",
    "\n",
    "mag = pd.DataFrame({'idx':np.arange(-sig_num,sig_num+1)})\n",
    "real = mag\n",
    "imag = mag\n",
    "\n",
    "x0 = pd.DataFrame()\n",
    "y0 = pd.DataFrame()\n",
    "eqdia = pd.DataFrame()\n",
    "\n",
    "for img_nm in mylist[:]:\n",
    "    print(img_nm[:-4])\n",
    "    title = img_nm[:-4]\n",
    "    df1,df2,df3,eqd = dcfft(title,numOfseg,sig_num)\n",
    "    mag  = pd.concat([mag, df1['mag']],axis=1)\n",
    "    real = pd.concat([real,df1['real']],axis=1)\n",
    "    imag = pd.concat([imag,df1['imag']],axis=1)\n",
    "    x0 = pd.concat([x0,df3['x0']],axis=1)\n",
    "    y0 = pd.concat([y0,df3['y0']],axis=1)\n",
    "    d = pd.DataFrame([eqd])\n",
    "    eqdia = pd.concat([eqdia,d],axis=1)\n",
    "    \n",
    "mag = mag.set_index('idx')    \n",
    "real = real.set_index('idx')\n",
    "imag = imag.set_index('idx')\n",
    "\n",
    "mag.columns = mylist\n",
    "real.columns = mylist\n",
    "imag.columns = mylist\n",
    "x0.columns = mylist\n",
    "y0.columns = mylist\n",
    "eqdia.columns = mylist\n",
    "\n",
    "#display(mag,real,imag)"
   ]
  },
  {
   "cell_type": "code",
   "execution_count": null,
   "metadata": {
    "tags": []
   },
   "outputs": [],
   "source": [
    "N = numOfseg #<-- 새로 재구성할 윤곽선 점의 갯수. Error 측정하려면 N = numOfseg로 맞춰야 한다.\n",
    "Mp = sig_num\n",
    "\n",
    "x1 = pd.DataFrame()\n",
    "y1 = pd.DataFrame()\n",
    "\n",
    "for img_nm in mylist[:]:\n",
    "    #각 이미지에 대한 Fourier descriptor로 윤곽선을 재구성한다.\n",
    "    dfxy1 = fdrecon(img_nm,N,sig_num,real,imag)\n",
    "    x1 = pd.concat([x1, dfxy1['x1']],axis=1)   \n",
    "    y1 = pd.concat([y1, dfxy1['y1']],axis=1)   \n",
    "\n",
    "x1.columns = mylist\n",
    "y1.columns = mylist    \n",
    "    "
   ]
  },
  {
   "cell_type": "code",
   "execution_count": null,
   "metadata": {
    "jupyter": {
     "source_hidden": true
    },
    "tags": []
   },
   "outputs": [],
   "source": [
    "def fdcircle(title,N,sig_num,real,imag):\n",
    "    \n",
    "    x1 = []\n",
    "    y1 = []\n",
    "    \n",
    "    for k in np.arange(0,N,1):\n",
    "        t = k/N\n",
    "        x = 0\n",
    "        y = 0\n",
    "\n",
    "        for m in [1]:\n",
    "\n",
    "            phi = 2 * np.pi * m * t\n",
    "        \n",
    "            A = real.loc[:,title]\n",
    "            B = imag.loc[:,title]\n",
    "\n",
    "            A = A.iloc[A.index==m]\n",
    "            B = B.iloc[B.index==m]\n",
    "            \n",
    "            x += A*np.cos(phi)-B*np.sin(phi)\n",
    "            y += A*np.sin(phi)+B*np.cos(phi)\n",
    "            \n",
    "        x1.append(x)\n",
    "        y1.append(y)\n",
    "    \n",
    "    dfxyc = pd.DataFrame({'x1':x1,'y1':y1})\n",
    "    \n",
    "    return dfxyc "
   ]
  },
  {
   "cell_type": "code",
   "execution_count": null,
   "metadata": {
    "jupyter": {
     "source_hidden": true
    },
    "tags": []
   },
   "outputs": [],
   "source": [
    "N = numOfseg #<-- 새로 재구성할 윤곽선 점의 갯수. Error 측정하려면 N = numOfseg로 맞춰야 한다.\n",
    "Mp = sig_num\n",
    "\n",
    "x1c = pd.DataFrame()\n",
    "y1c = pd.DataFrame()\n",
    "\n",
    "for img_nm in mylist[:]:\n",
    "    #각 이미지에 대한 Fourier descriptor로 윤곽선을 재구성한다.\n",
    "    dfxyc = fdcircle(img_nm,N,sig_num,real,imag)\n",
    "    x1c = pd.concat([x1c, dfxyc['x1']],axis=1)   \n",
    "    y1c = pd.concat([y1c, dfxyc['y1']],axis=1)   \n",
    "\n",
    "x1c.columns = mylist\n",
    "y1c.columns = mylist  "
   ]
  },
  {
   "cell_type": "code",
   "execution_count": null,
   "metadata": {
    "jupyter": {
     "source_hidden": true
    },
    "tags": []
   },
   "outputs": [],
   "source": [
    "fig, axs3 = plt.subplots()\n",
    "plt.rc('font', family='Arial') \n",
    "plt.rcParams[\"figure.figsize\"] = (10, 10)\n",
    "axs3.set_aspect('equal')\n",
    "color=iter(cm.rainbow(np.linspace(0,1,len(mylist[:]))))\n",
    "\n",
    "for n in np.arange(0,len(mylist)):\n",
    "    c = next(color)\n",
    "    l1,=axs3.plot(x0.iloc[:,n], y0.iloc[:,n], label=' ', linestyle='-', color=c, \n",
    "             marker='+', markersize=5, markerfacecolor='r',linewidth=0)\n",
    "    l2,=axs3.plot(x1c.iloc[:,n], y1c.iloc[:,n], label=' ', linestyle='-', color=c, \n",
    "             marker='x', markersize=1, markerfacecolor='r',linewidth=1)\n",
    "\n",
    "axs3.tick_params(axis=\"x\", labelsize=20)\n",
    "axs3.tick_params(axis=\"y\", labelsize=20)\n",
    "\n",
    "plt.xlabel('x',fontsize=20)\n",
    "plt.ylabel('y',fontsize=20)\n",
    "plt.grid(True)\n",
    "#plt.savefig('fig-.png',dpi=300,bbox_inches='tight')\n",
    "plt.show()"
   ]
  },
  {
   "cell_type": "code",
   "execution_count": null,
   "metadata": {},
   "outputs": [],
   "source": [
    "df1 = std_image(mylist)\n",
    "fdrecon2(title, N, sig_num, df1)"
   ]
  },
  {
   "cell_type": "code",
   "execution_count": null,
   "metadata": {},
   "outputs": [],
   "source": []
  }
 ],
 "metadata": {
  "kernelspec": {
   "display_name": "Python 3 (ipykernel)",
   "language": "python",
   "name": "python3"
  },
  "language_info": {
   "codemirror_mode": {
    "name": "ipython",
    "version": 3
   },
   "file_extension": ".py",
   "mimetype": "text/x-python",
   "name": "python",
   "nbconvert_exporter": "python",
   "pygments_lexer": "ipython3",
   "version": "3.10.9"
  },
  "toc-autonumbering": false,
  "toc-showcode": false,
  "toc-showmarkdowntxt": false
 },
 "nbformat": 4,
 "nbformat_minor": 4
}
