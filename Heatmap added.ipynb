{
 "cells": [
  {
   "cell_type": "code",
   "execution_count": 1,
   "metadata": {
    "tags": []
   },
   "outputs": [],
   "source": [
    "import sys\n",
    "sys.path.append('C:\\\\Users\\\\cysdh\\\\anaconda3\\\\Lib\\\\site-packages')\n",
    "\n",
    "import cv2\n",
    "import numpy as np\n",
    "import scipy\n",
    "from scipy.stats import lognorm\n",
    "import os\n",
    "import pandas as pd\n",
    "import matplotlib.pyplot as plt\n",
    "from matplotlib.pyplot import cm"
   ]
  },
  {
   "cell_type": "code",
   "execution_count": 2,
   "metadata": {
    "tags": []
   },
   "outputs": [],
   "source": [
    "def fcall(img_nm):\n",
    "    \n",
    "    #대상 이미지 파일의 확장자를 확인할 것.\n",
    "    filename = img_nm+'.png'\n",
    "\n",
    "    # Load the image and convert it to grayscale:\n",
    "    image = cv2.imread(filename)\n",
    "    gray_image = cv2.cvtColor(image, cv2.COLOR_BGR2GRAY)\n",
    "    \n",
    "    #cv2.THRESH_BINARY 인지 cv2.THRESH_BINARY_INV 꼭 확인할것!\n",
    "    ret, thresh = cv2.threshold(gray_image, 50, 255, cv2.THRESH_BINARY_INV)\n",
    "    \n",
    "    return thresh"
   ]
  },
  {
   "cell_type": "code",
   "execution_count": 3,
   "metadata": {
    "tags": []
   },
   "outputs": [],
   "source": [
    "def find_a_contour(thresh):\n",
    "    contours, hierarchy = cv2.findContours(\n",
    "        thresh, \n",
    "        cv2.RETR_EXTERNAL, \n",
    "        cv2.CHAIN_APPROX_NONE)\n",
    "    ncnt = len(contours[:]) #ncnt = number of contour lines\n",
    "    chk = 0 #chk은 w번째 경계면을 이루는 좌표의 갯수이다\n",
    "    set = 0 #set이 내가 찾고 싶은 경계면의 번호이다\n",
    "    for w in range(ncnt):\n",
    "       if chk < len(contours[w]):\n",
    "            chk = len(contours[w])\n",
    "            set = w\n",
    "    # 찾은 contour 좌표를 contour_array에 저장한다\n",
    "    contour_array=contours[set][:,0,:]\n",
    "\n",
    "    # 폐합된(closed) 다각형(polygon) 좌표군을 생성한다.\n",
    "    polyg = np.append(contour_array, contour_array[0,:].reshape(1,2), axis=0)\n",
    "    \n",
    "    # Equivalent diameter를 구한다.\n",
    "    area = cv2.contourArea(contours[set])\n",
    "    equi_diameter = np.sqrt(4*area/np.pi)\n",
    "    \n",
    "    return contour_array, polyg, equi_diameter\n"
   ]
  },
  {
   "cell_type": "code",
   "execution_count": 4,
   "metadata": {
    "tags": []
   },
   "outputs": [],
   "source": [
    "def find_eqdpt(polyg, numOfSegments):\n",
    "\n",
    "    #Find Contour Perimeter\n",
    "    perimeter = cv2.arcLength(polyg,True)\n",
    "\n",
    "    #Find Segment length\n",
    "    SegLength = perimeter/numOfSegments\n",
    "\n",
    "    lastpt = polyg[0:1] #제일 첫 point를 last point로 설정\n",
    "    eqdpt  = polyg[0:1]\n",
    "    polyIdx = 0\n",
    "    lenToGo = SegLength\n",
    "\n",
    "    while len(eqdpt)<numOfSegments:\n",
    "        lenOnPolyline = np.linalg.norm(polyg[polyIdx+1]-lastpt)\n",
    "        if lenOnPolyline > lenToGo:\n",
    "            unitv = polyg[polyIdx+1]-lastpt\n",
    "            unitv = unitv / np.linalg.norm(unitv)       \n",
    "            lastpt = unitv*lenToGo + lastpt\n",
    "            eqdpt = np.append(eqdpt,lastpt.reshape(1,2),axis=0)\n",
    "            lenToGo = SegLength\n",
    "        else:\n",
    "            lenToGo = lenToGo - lenOnPolyline\n",
    "            polyIdx += 1\n",
    "            lastpt = polyg[polyIdx]    \n",
    "    \n",
    "    return eqdpt"
   ]
  },
  {
   "cell_type": "code",
   "execution_count": 5,
   "metadata": {
    "tags": []
   },
   "outputs": [],
   "source": [
    "def trans_eqdpt(eqdpt, polyg, contour_array):\n",
    "    # Find Centroid\n",
    "    M = cv2.moments(contour_array)\n",
    "    cX = np.int32(M[\"m10\"]/M[\"m00\"])\n",
    "    cY = np.int32(M[\"m01\"]/M[\"m00\"])\n",
    "\n",
    "    # Translate Contour points\n",
    "    centroid = np.empty(contour_array.shape)\n",
    "    centroid[:,0] = cX\n",
    "    centroid[:,1] = cY\n",
    "    contour_array = contour_array - centroid\n",
    "\n",
    "    centroid = np.empty(polyg.shape)\n",
    "    centroid[:,0] = cX\n",
    "    centroid[:,1] = cY\n",
    "    polyg = polyg - centroid\n",
    "        \n",
    "    centroid = np.empty(eqdpt.shape)\n",
    "    centroid[:,0] = cX\n",
    "    centroid[:,1] = cY\n",
    "    \n",
    "    eqdpt = eqdpt - centroid\n",
    "    \n",
    "    return eqdpt, polyg, contour_array"
   ]
  },
  {
   "cell_type": "code",
   "execution_count": 6,
   "metadata": {
    "tags": []
   },
   "outputs": [],
   "source": [
    "def find_FD(eqdpt,sig_num):\n",
    "\n",
    "    # 푸리에 변환에 사용할 절점 g의 갯수 = M\n",
    "    M = len(eqdpt)    \n",
    "    \n",
    "    #2차원 Fourier 변환을 위한 준비(복소수형태로 좌표를 변환시킴) --> fft 변환 --> fourier_result에 coef값 저장\n",
    "    eqdpt_complex = np.empty(eqdpt.shape[:-1],dtype=complex)\n",
    "    eqdpt_complex.real = eqdpt[:,0]\n",
    "    eqdpt_complex.imag = eqdpt[:,1]\n",
    "\n",
    "    fft_result = np.fft.fft(eqdpt_complex)  # np.fft.fft로 구한 coef값은 1/M되지 않았다.\n",
    "    fft_result = fft_result/M  # 1/M로 나눠주었다.\n",
    "    fftshifted = np.fft.fftshift(fft_result)  # fftshift가 zero-freq를 중앙으로 위치시킨다.\n",
    "    \n",
    "    #sig_num 가 몇개를 추출할지 결정 (pair의 갯수임)\n",
    "    if (len(fftshifted) % 2) == 0:\n",
    "        center_index = len(fftshifted)/2\n",
    "    else:\n",
    "        center_index = (len(fftshifted)+1)/2\n",
    "    start = np.int32(center_index - sig_num)\n",
    "    end   = np.int32(center_index + sig_num) +1\n",
    "\n",
    "    #print('center,start,end=',center_index,start,end)\n",
    "    \n",
    "    G = fftshifted[start:end]  #start와 end 사이의 중앙값이 가장 큰 coef를 가진다.\n",
    "    \n",
    "    # Calculate Magnitude of Fourier Descriptor Coefficients\n",
    "    G_real = G.real\n",
    "    G_imag = G.imag\n",
    "    G_mag  = np.sqrt(G_real**2+G_imag**2)\n",
    "    \n",
    "    return G_mag, G_real, G_imag, fft_result, fftshifted"
   ]
  },
  {
   "cell_type": "code",
   "execution_count": 7,
   "metadata": {
    "tags": []
   },
   "outputs": [],
   "source": [
    "def dcfft(img_nm,numOfseg,sig_num):\n",
    "\n",
    "    thresh = fcall(img_nm)\n",
    "    \n",
    "    #입자 이미지의 경계면 좌표를 찾는다.\n",
    "    contour_array, polyg, eqdia = find_a_contour(thresh)\n",
    "    \n",
    "    print(img_nm,eqdia,'Equ_dia')\n",
    "    \n",
    "    #앞서 얻은 경계면 좌표 간격은 일정하지 않다. 이를 일정한 간격이 되도록 좌표를 다시 찾는다.\n",
    "    #numOfSegments = by input param   #등간격 세그먼트의 숫자를 지정한다. 2^n 으로 지정\n",
    "    eqdpt = find_eqdpt(polyg, numOfseg)\n",
    "    \n",
    "    #좌표군들의 도심이 원점이 되도록 이동(translation)시킨다.\n",
    "    eqdpt, polyg, contour_array = trans_eqdpt(eqdpt, polyg, contour_array)\n",
    "    \n",
    "    \n",
    "    \n",
    "    #시작점을 원점이 되도록 이동시킨다\n",
    "    eqdpt[:,0] -= eqdpt[0][0]\n",
    "    eqdpt[:,1] -= eqdpt[0][1]\n",
    "\n",
    "    \n",
    "    \n",
    "    #FFT를 실시하여 Fourier Descriptor를 찾는다.\n",
    "    #sig_num = by input param         #중심을 기준으로 추출할 FD의 갯수를 정한다.\n",
    "    idx = pd.DataFrame({'idx':np.arange(-sig_num,sig_num+1)})\n",
    "    \n",
    "    a,b,c,d,e = find_FD(eqdpt,sig_num)\n",
    "    \n",
    "    df1 = pd.DataFrame({'mag':a,'real':b,'imag':c})\n",
    "    df2 = pd.DataFrame({'fft_result':d,'fftshift_result':e})\n",
    "    df3 = pd.DataFrame({'x0':eqdpt[:,0],'y0':eqdpt[:,1]})\n",
    "    \n",
    "    return df1, df2, df3, eqdia"
   ]
  },
  {
   "cell_type": "code",
   "execution_count": 8,
   "metadata": {
    "tags": []
   },
   "outputs": [],
   "source": [
    "def fdrecon(title,N,sig_num,real,imag):\n",
    "    \n",
    "    x1 = []\n",
    "    y1 = []\n",
    "    \n",
    "    for k in np.arange(0,N,1):\n",
    "        t = k/N\n",
    "        x = 0\n",
    "        y = 0\n",
    "\n",
    "        for m in np.arange(-sig_num,sig_num+1):\n",
    "            phi = 2 * np.pi * m * t\n",
    "        \n",
    "            A = real.loc[m,title]\n",
    "            B = imag.loc[m,title]\n",
    "        \n",
    "            x += A*np.cos(phi)-B*np.sin(phi)\n",
    "            y += A*np.sin(phi)+B*np.cos(phi)\n",
    "    \n",
    "        x1.append(x)\n",
    "        y1.append(y)\n",
    "    \n",
    "    df = pd.DataFrame({'x1':x1,'y1':y1})\n",
    "    \n",
    "    return df    "
   ]
  },
  {
   "cell_type": "code",
   "execution_count": 9,
   "metadata": {
    "tags": []
   },
   "outputs": [],
   "source": [
    "def smlty_ED(mylist):\n",
    "    sum = [0]*len(mylist) #각 이미지들의 Fourier Coefficients(F.C.) 합을 담을 list 생성\n",
    "\n",
    "    for k in range(len(mylist)):\n",
    "        for i in range(41):\n",
    "            if i == 19:\n",
    "                mag[f'{mylist[k]}'][i-20] = 0        # 0차항 제거\n",
    "                pass\n",
    "            else:\n",
    "                sum[k] += mag[f'{mylist[k]}'][i-20]  # 각 이미지들의 F.C. 합 계산\n",
    "            \n",
    "    df = pd.DataFrame(index=mylist, columns=mylist)\n",
    "    df[:] = np.nan\n",
    "\n",
    "    for j in range(len(mylist)):\n",
    "        temp1 = mag[f'{mylist[j]}']/sum[j]\n",
    "        mag[f'{mylist[j]}'] = temp1               # 위에서 계산한 합으로 각 이미지들의 mag를 나눔으로써 정규화\n",
    "    \n",
    "    smlty = [0]*len(mylist)\n",
    "    \n",
    "    for m in range(len(mylist)):\n",
    "        std = mag[mylist[m]]                          # mylist의 n번째 이미지를 Standard로 설정\n",
    "        for w in range(len(mylist)):\n",
    "            temp2 = [0]\n",
    "            temp3 = [0]\n",
    "            for q in range(41):\n",
    "                temp2 = (mag[f'{mylist[w]}'][q-20]-std[q-20])**2\n",
    "                temp3 += temp2\n",
    "            smlty[w] = temp3**(0.5)                  # Standard를 기준으로 각 이미지의 Euclidean Distance 계산\n",
    "        df[mylist[m]] = smlty\n",
    "    \n",
    "    df = df.astype(float)\n",
    "    \n",
    "    return df"
   ]
  },
  {
   "cell_type": "code",
   "execution_count": 10,
   "metadata": {
    "tags": []
   },
   "outputs": [],
   "source": [
    "def heatmap_DGD(df):\n",
    "\n",
    "    # create a masked array to hide the upper triangle of the heatmap\n",
    "    mask = np.zeros_like(df)\n",
    "    mask[np.triu_indices_from(mask)] = True\n",
    "    masked_array = np.ma.array(df.values, mask=mask)\n",
    "\n",
    "    # create the heatmap\n",
    "    cmap = plt.get_cmap('Reds')\n",
    "    plt.imshow(masked_array, cmap=cmap, interpolation='nearest', vmin=0, vmax=1)\n",
    "\n",
    "    # set the tick labels and rotation for the x-axis\n",
    "    plt.xticks(range(len(df.index)), df.index, rotation=90)\n",
    "    ax = plt.gca()\n",
    "    ax.tick_params(axis='x', labeltop=True, labelbottom=False)\n",
    "\n",
    "    # set the tick labels for the y-axis\n",
    "    plt.yticks(range(len(df.columns)), df.columns)\n",
    "\n",
    "    # set the title of the heatmap to the name of the folder where the image is saved\n",
    "    folder_path = os.path.join(os.getcwd(), \"Heatmap & Histogram\")\n",
    "    folder_name = os.path.basename(os.getcwd())\n",
    "    plt.title(f\"{folder_name}\")\n",
    "\n",
    "    plt.colorbar()\n",
    "    \n",
    "    for i in range(len(df.columns)):\n",
    "        for j in range(i+1, len(df.index)):\n",
    "            value = df.iloc[j, i]\n",
    "            if value == 0:\n",
    "                plt.text(i, j, f\"{value:.3f}\", ha='center', va='center', color='black', weight='bold')\n",
    "            else:\n",
    "                plt.text(i, j, f\"{value:.3f}\", ha='center', va='center', color='black')\n",
    "                \n",
    "    lower_left_triangle = df.values[np.tril_indices(len(df), -1)]\n",
    "    mean_value = np.mean(lower_left_triangle)\n",
    "    x_position = len(df.columns) - 1\n",
    "    y_position = 0\n",
    "    plt.text(x_position, y_position, f\"Mean Value: {mean_value:.3f}\", ha='right', va='bottom', color='black')\n",
    "\n",
    "\n",
    "    # save the figure in the \"heatmaps\" folder\n",
    "    os.makedirs(folder_path, exist_ok=True)\n",
    "    file_name = f\"{folder_name}_heatmap.png\"\n",
    "    save_path = os.path.join(folder_path, file_name)\n",
    "    fig = plt.gcf()\n",
    "    fig.savefig(save_path, dpi=300, bbox_inches='tight')\n",
    "\n",
    "    plt.show()"
   ]
  },
  {
   "cell_type": "code",
   "execution_count": 11,
   "metadata": {
    "tags": []
   },
   "outputs": [],
   "source": [
    "def histo1(df, standard_num,range_min = 0, range_max = 1):\n",
    "    num_bins = 100\n",
    "    \n",
    "    similarity_values = df[mylist[standard_num]]\n",
    "    \n",
    "    plt.hist(similarity_values, bins=num_bins, range=(range_min, range_max), edgecolor='black')\n",
    "\n",
    "    plt.title(\"Histogram of Normalized Similarity Values\")\n",
    "    plt.xlabel(\"Similarity Values\")\n",
    "    plt.ylabel(\"Frequency\")\n",
    "\n",
    "    # show the histogram\n",
    "    plt.show()\n",
    "\n",
    "def histo2(df):\n",
    "    # Flatten the dataframe into a 1D numpy array, excluding diagonal and upper-right triangle\n",
    "    values = df.where(np.triu(np.ones(df.shape), k=1).astype(bool)).values.flatten()\n",
    "    \n",
    "    # Set the number of bins for the histogram\n",
    "    num_bins = 100\n",
    "    \n",
    "    # Plot the histogram\n",
    "    plt.hist(values, bins=num_bins)\n",
    "    \n",
    "    # Add axis labels and title\n",
    "    plt.xlabel('Distance')\n",
    "    plt.ylabel('Frequency')\n",
    "    \n",
    "    plt.xlim(0, 1)\n",
    "    \n",
    "    # set the title of the histogram to the name of the folder where the image is saved\n",
    "    folder_path = os.path.join(os.getcwd(), \"Heatmap & Histogram\")\n",
    "    folder_name = os.path.basename(os.getcwd())\n",
    "    plt.title(f\"{folder_name}\")\n",
    "    \n",
    "    os.makedirs(folder_path, exist_ok=True)\n",
    "    file_name = f\"{folder_name}_histogram.png\"\n",
    "    save_path = os.path.join(folder_path, file_name)\n",
    "    fig = plt.gcf()\n",
    "    fig.savefig(save_path, dpi=300, bbox_inches='tight')\n",
    "    \n",
    "    # Show the plot\n",
    "    plt.show()"
   ]
  },
  {
   "cell_type": "code",
   "execution_count": 12,
   "metadata": {
    "tags": []
   },
   "outputs": [],
   "source": [
    "numOfseg = 128   #[중요] 등간격 세그먼트의 숫자를 지정한다. 2^n 으로 지정\n",
    "sig_num = 20      #[중요] Zero-Freq 중심을 기준으로 아래 위로 추출할 FD의 갯수를 정한다. (Pair의 숫자임)"
   ]
  },
  {
   "cell_type": "code",
   "execution_count": 13,
   "metadata": {
    "tags": []
   },
   "outputs": [
    {
     "name": "stdout",
     "output_type": "stream",
     "text": [
      "Rotated (01)\n",
      "Rotated (01) 870.7805190022657 Equ_dia\n",
      "Rotated (02)\n",
      "Rotated (02) 804.553732504123 Equ_dia\n",
      "Rotated (03)\n",
      "Rotated (03) 1039.6977737801212 Equ_dia\n",
      "Rotated (04)\n",
      "Rotated (04) 1061.1567697487258 Equ_dia\n"
     ]
    }
   ],
   "source": [
    "import glob\n",
    "N = numOfseg #<-- 새로 재구성할 윤곽선 점의 갯수. Error 측정하려면 N = numOfseg로 맞춰야 한다.\n",
    "Mp = sig_num\n",
    "\n",
    "mylist = [f for f in sorted(glob.glob(\"*.png\"))]  #읽어들일 파일의 확장자 확인할것\n",
    "\n",
    "mag = pd.DataFrame({'idx':np.arange(-sig_num,sig_num+1)})\n",
    "real = mag\n",
    "imag = mag\n",
    "\n",
    "x0 = pd.DataFrame()\n",
    "y0 = pd.DataFrame()\n",
    "eqdia = pd.DataFrame()\n",
    "\n",
    "for img_nm in mylist[:]:\n",
    "    print(img_nm[:-4])\n",
    "    title = img_nm[:-4]\n",
    "    df1,df2,df3,eqd = dcfft(title,numOfseg,sig_num)\n",
    "    mag  = pd.concat([mag, df1['mag']],axis=1)\n",
    "    real = pd.concat([real,df1['real']],axis=1)\n",
    "    imag = pd.concat([imag,df1['imag']],axis=1)\n",
    "    x0 = pd.concat([x0,df3['x0']],axis=1)\n",
    "    y0 = pd.concat([y0,df3['y0']],axis=1)\n",
    "    d = pd.DataFrame([eqd])\n",
    "    eqdia = pd.concat([eqdia,d],axis=1)\n",
    "    \n",
    "mag = mag.set_index('idx')    \n",
    "real = real.set_index('idx')\n",
    "imag = imag.set_index('idx')\n",
    "\n",
    "mag.columns = mylist\n",
    "real.columns = mylist\n",
    "imag.columns = mylist\n",
    "x0.columns = mylist\n",
    "y0.columns = mylist\n",
    "eqdia.columns = mylist\n",
    "\n",
    "#display(mag,real,imag)"
   ]
  },
  {
   "cell_type": "code",
   "execution_count": 14,
   "metadata": {
    "tags": []
   },
   "outputs": [
    {
     "data": {
      "image/png": "[encoded data removed]",
      "text/plain": [
       "<Figure size 640x480 with 1 Axes>"
      ]
     },
     "metadata": {},
     "output_type": "display_data"
    }
   ],
   "source": [
    "fig, axs3 = plt.subplots()\n",
    "plt.rc('font', family='Arial') \n",
    "plt.rcParams[\"figure.figsize\"] = (10, 10)\n",
    "axs3.set_aspect('equal')\n",
    "color=iter(cm.rainbow(np.linspace(0,1,len(mylist[:]))))\n",
    "\n",
    "for n in np.arange(0,len(mylist)):\n",
    "    c = next(color)\n",
    "    l1,=axs3.plot(x0.iloc[:,n], y0.iloc[:,n], label=' ', linestyle='-', color=c, \n",
    "             marker='+', markersize=5, markerfacecolor='r',linewidth=0)\n",
    "    l1,=axs3.plot(x0.iloc[0], y0.iloc[0], label=' ', linestyle='-', color=c, \n",
    "             marker='o', markersize=5, markerfacecolor='r',linewidth=0)\n",
    "\n",
    "axs3.tick_params(axis=\"x\", labelsize=20)\n",
    "axs3.tick_params(axis=\"y\", labelsize=20)\n",
    "\n",
    "plt.xlabel('x',fontsize=20)\n",
    "plt.ylabel('y',fontsize=20)\n",
    "plt.grid(True)\n",
    "#plt.savefig('fig-.png',dpi=300,bbox_inches='tight')\n",
    "plt.show()"
   ]
  },
  {
   "cell_type": "code",
   "execution_count": 15,
   "metadata": {
    "tags": []
   },
   "outputs": [
    {
     "data": {
      "image/png": "[encoded data removed]",
      "text/plain": [
       "<Figure size 1000x1000 with 2 Axes>"
      ]
     },
     "metadata": {},
     "output_type": "display_data"
    }
   ],
   "source": [
    "df = smlty_ED(mylist)\n",
    "heatmap_DGD(df)"
   ]
  },
  {
   "cell_type": "code",
   "execution_count": null,
   "metadata": {},
   "outputs": [],
   "source": []
  }
 ],
 "metadata": {
  "kernelspec": {
   "display_name": "Python 3 (ipykernel)",
   "language": "python",
   "name": "python3"
  },
  "language_info": {
   "codemirror_mode": {
    "name": "ipython",
    "version": 3
   },
   "file_extension": ".py",
   "mimetype": "text/x-python",
   "name": "python",
   "nbconvert_exporter": "python",
   "pygments_lexer": "ipython3",
   "version": "3.10.9"
  },
  "toc-autonumbering": false,
  "toc-showcode": false,
  "toc-showmarkdowntxt": false
 },
 "nbformat": 4,
 "nbformat_minor": 4
}
