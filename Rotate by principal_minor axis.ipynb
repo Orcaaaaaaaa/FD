{
 "cells": [
  {
   "cell_type": "code",
   "execution_count": 1,
   "id": "d0c5dedd-fa2f-4203-87b4-55a2e6c0e680",
   "metadata": {},
   "outputs": [],
   "source": [
    "import sys\n",
    "sys.path.append('C:\\\\Users\\\\cysdh\\\\anaconda3\\\\Lib\\\\site-packages')\n",
    "import os\n",
    "import numpy as np\n",
    "import matplotlib.pyplot as plt\n",
    "from skimage import io\n",
    "from skimage import util\n",
    "from PIL import Image"
   ]
  },
  {
   "cell_type": "code",
   "execution_count": 2,
   "id": "03e6e66c-6222-48b9-be88-8d9865e9292f",
   "metadata": {},
   "outputs": [],
   "source": [
    "def rotate(img_name):\n",
    "    name = \"Rotated \"+img_name\n",
    "    img = io.imread(img_name, as_gray=True)\n",
    "    img = util.invert(img)\n",
    "    y, x = np.nonzero(img)\n",
    "\n",
    "    \n",
    "    #Original Image에 표시할 Principal, Minor Axis 계산\n",
    "    x = x - np.mean(x)\n",
    "    y = y - np.mean(y)\n",
    "    coords = np.vstack([x, y])\n",
    "    cov = np.cov(coords)\n",
    "    evals, evecs = np.linalg.eig(cov)\n",
    "    sort_indices = np.argsort(evals)[::-1]\n",
    "    x_v1, y_v1 = evecs[:, sort_indices[0]]  # Eigenvector with largest eigenvalue\n",
    "\n",
    "    \n",
    "    # Rotate the blob and plot the transformed image\n",
    "    theta = np.arctan2((y_v1),(x_v1))  \n",
    "    rotation_mat = np.matrix([[np.cos(theta), np.sin(theta)],[-np.sin(theta), np.cos(theta)]])\n",
    "    transformed_mat = rotation_mat * coords\n",
    "    x_transformed, y_transformed = transformed_mat.A\n",
    "    \n",
    "    \n",
    "    x_transformed = x_transformed - np.mean(x_transformed)\n",
    "    y_transformed = y_transformed - np.mean(y_transformed)\n",
    "    \n",
    "    plt.plot(x_transformed, y_transformed, 'k.')\n",
    "    plt.axis('equal')\n",
    "    plt.axis('off')\n",
    "    plt.gca().invert_yaxis()  # Match the image system with origin at top left\n",
    "    fig = plt.gcf()\n",
    "    \n",
    "    # set the title of the histogram to the name of the folder where the image is saved\n",
    "    cwd = os.getcwd()\n",
    "    parent_folder_name = os.path.basename(os.path.dirname(cwd))\n",
    "    current_folder_name = os.path.basename(cwd)\n",
    "    folder_path = os.path.join(cwd, \"Rotated Pictures\")\n",
    "    os.makedirs(folder_path, exist_ok=True)\n",
    "    file_name = name\n",
    "    save_path = os.path.join(folder_path, file_name)\n",
    "    fig.savefig(save_path, dpi=300, bbox_inches='tight', pad_inches = 0)\n",
    "    plt.clf()"
   ]
  },
  {
   "cell_type": "code",
   "execution_count": 3,
   "id": "e947908d-3d80-4103-a081-ed84ef4c4a2f",
   "metadata": {},
   "outputs": [
    {
     "data": {
      "text/plain": [
       "<Figure size 640x480 with 0 Axes>"
      ]
     },
     "metadata": {},
     "output_type": "display_data"
    }
   ],
   "source": [
    "import glob\n",
    "mylist = [f for f in sorted(glob.glob(\"*.png\"))]\n",
    "\n",
    "for image_nm in mylist[:]:\n",
    "    title = image_nm\n",
    "    rotate(title)"
   ]
  },
  {
   "cell_type": "code",
   "execution_count": null,
   "id": "eae3f686-1c06-4863-8b8f-37c8b661aefb",
   "metadata": {},
   "outputs": [],
   "source": []
  }
 ],
 "metadata": {
  "kernelspec": {
   "display_name": "Python 3 (ipykernel)",
   "language": "python",
   "name": "python3"
  },
  "language_info": {
   "codemirror_mode": {
    "name": "ipython",
    "version": 3
   },
   "file_extension": ".py",
   "mimetype": "text/x-python",
   "name": "python",
   "nbconvert_exporter": "python",
   "pygments_lexer": "ipython3",
   "version": "3.10.9"
  }
 },
 "nbformat": 4,
 "nbformat_minor": 5
}
