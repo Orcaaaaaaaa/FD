{
 "cells": [
  {
   "cell_type": "code",
   "execution_count": 1,
   "metadata": {},
   "outputs": [],
   "source": [
    "import cv2\n",
    "import numpy as np\n",
    "import os\n",
    "import pandas as pd\n",
    "import matplotlib.pyplot as plt\n",
    "from matplotlib.pyplot import cm"
   ]
  },
  {
   "cell_type": "markdown",
   "metadata": {},
   "source": [
    "__fcall 함수 설명__   \n",
    "파일명을 받아서, 해당 이미지파일을 연다.   \n",
    "cv2.cvtColor 명령으로 이미지파일을 gray sclae로 변환한다(이미 binary 처리된 이미지라면 불필요한 부분임)   \n",
    "cv2.threshold 명령으로 gray scale 이미지를 binary 이미지로 변환한다.(이미 binary 처리된 이미지라면 불필요)   \n",
    "* cv2.threshold 명령의 파라미터 선정 시 주의할것. 기본적으로 외측배경은 흑백(즉 0)이 되어야 한다.   \n",
    "* 외측배경이 백색이라면 cv2.THRESH_BINARY_INV 를 사용할 것   \n",
    "* 외측배경이 흑색이라면 cv2.THRESH_BINARY 를 사용할 것   \n",
    "참조: https://docs.opencv.org/master/d7/d4d/tutorial_py_thresholding.html"
   ]
  },
  {
   "cell_type": "code",
   "execution_count": 2,
   "metadata": {},
   "outputs": [],
   "source": [
    "def fcall(img_nm):\n",
    "    \n",
    "    #대상 이미지 파일의 확장자를 확인할 것.\n",
    "    filename = img_nm+'.png'\n",
    "\n",
    "    # Load the image and convert it to grayscale:\n",
    "    image = cv2.imread(filename)\n",
    "    gray_image = cv2.cvtColor(image, cv2.COLOR_BGR2GRAY)\n",
    "    \n",
    "    #cv2.THRESH_BINARY 인지 cv2.THRESH_BINARY_INV 꼭 확인할것!\n",
    "    ret, thresh = cv2.threshold(gray_image, 50, 255, cv2.THRESH_BINARY_INV)\n",
    "    \n",
    "    return thresh"
   ]
  },
  {
   "cell_type": "markdown",
   "metadata": {},
   "source": [
    "__find_a_contour 함수 설명__     \n",
    "* cv2.findContours 명령으로 binary이미지에서 경계면을 찾는다.    \n",
    "* cv2.findContours 명령은 대상 이미지에서 찾아지는 모든 경계면을 찾는다. 즉 이미지 상태가 좋지 않으면 의도치 않은 다수의 경계면까지 찾아진다.\n",
    "* 다수의 경계면이 찾아진 경우, 경계면의 길이가 가장 긴 것이 찾고자 하는 입자의 경계면일 것이다. 찾은 경계면의 좌표정보를 contour_array 에 저장하였다.   \n",
    "* contour_array에 저장된 좌표를 Fourier descriptor 처리를 위한 다각형 좌표군의 형식으로 변환하였다."
   ]
  },
  {
   "cell_type": "code",
   "execution_count": 3,
   "metadata": {},
   "outputs": [],
   "source": [
    "def find_a_contour(thresh):\n",
    "    contours, hierarchy = cv2.findContours(\n",
    "        thresh, \n",
    "        cv2.RETR_EXTERNAL, \n",
    "        cv2.CHAIN_APPROX_NONE)\n",
    "    ncnt = len(contours[:]) #ncnt = number of contour lines\n",
    "    chk = 0 #chk은 w번째 경계면을 이루는 좌표의 갯수이다\n",
    "    set = 0 #set이 내가 찾고 싶은 경계면의 번호이다\n",
    "    for w in range(ncnt):\n",
    "       if chk < len(contours[w]):\n",
    "            chk = len(contours[w])\n",
    "            set = w\n",
    "    # 찾은 contour 좌표를 contour_array에 저장한다\n",
    "    contour_array=contours[set][:,0,:]\n",
    "\n",
    "    # 폐합된(closed) 다각형(polygon) 좌표군을 생성한다.\n",
    "    polyg = np.append(contour_array, contour_array[0,:].reshape(1,2), axis=0)\n",
    "    \n",
    "    # Equivalent diameter를 구한다.\n",
    "    area = cv2.contourArea(contours[set])\n",
    "    equi_diameter = np.sqrt(4*area/np.pi)\n",
    "    \n",
    "    return contour_array, polyg, equi_diameter\n"
   ]
  },
  {
   "cell_type": "markdown",
   "metadata": {},
   "source": [
    "__find_eqdpt 함수 설명__    \n",
    "* 입력받은 폐합된 다각형 좌표군 polyg를 이용하여 FD을 하기 위해 필요한 기본적인 정보를 추출한다.   \n",
    "* polyg의 좌표 간격은 등간격이 아니므로, Segment 간격이 일정하도록 조정한다.   \n",
    "* 일정한 간격으로 조정된 좌표군을 eqdpt 변수에 저장한다.\n",
    "* eqdpt = equal distance points를 줄여서 변수명 설정.   \n",
    "* 주의! numOfSegments 변수값은 Fourier Descriptor의 갯수가 된다.   "
   ]
  },
  {
   "cell_type": "code",
   "execution_count": 4,
   "metadata": {},
   "outputs": [],
   "source": [
    "def find_eqdpt(polyg, numOfSegments):\n",
    "\n",
    "    #Find Contour Perimeter\n",
    "    perimeter = cv2.arcLength(polyg,True)\n",
    "\n",
    "    #Find Segment length\n",
    "    SegLength = perimeter/numOfSegments\n",
    "\n",
    "    lastpt = polyg[0:1] #제일 첫 point를 last point로 설정\n",
    "    eqdpt  = polyg[0:1]\n",
    "    polyIdx = 0\n",
    "    lenToGo = SegLength\n",
    "\n",
    "    while len(eqdpt)<numOfSegments:\n",
    "        lenOnPolyline = np.linalg.norm(polyg[polyIdx+1]-lastpt)\n",
    "        if lenOnPolyline > lenToGo:\n",
    "            unitv = polyg[polyIdx+1]-lastpt\n",
    "            unitv = unitv / np.linalg.norm(unitv)       \n",
    "            lastpt = unitv*lenToGo + lastpt\n",
    "            eqdpt = np.append(eqdpt,lastpt.reshape(1,2),axis=0)\n",
    "            lenToGo = SegLength\n",
    "        else:\n",
    "            lenToGo = lenToGo - lenOnPolyline\n",
    "            polyIdx += 1\n",
    "            lastpt = polyg[polyIdx]    \n",
    "    \n",
    "    return eqdpt"
   ]
  },
  {
   "cell_type": "markdown",
   "metadata": {},
   "source": [
    "__trans_eqdpt 함수 설명__    \n",
    "* eqdpt의 등간격 절점군으로 만들어진 폐합 다각형 좌표군 eqdpt에서 도심(centroid)의 좌표를 찾는다.   \n",
    "* 좌표군의 도심이 원점(0,0)이 되도록 이동시킨다.   \n",
    "* 이동시킨 좌표군은 3종이다: eqdpt, polyg, contour_array   "
   ]
  },
  {
   "cell_type": "code",
   "execution_count": 5,
   "metadata": {},
   "outputs": [],
   "source": [
    "def trans_eqdpt(eqdpt, polyg, contour_array):\n",
    "    # Find Centroid\n",
    "    M = cv2.moments(contour_array)\n",
    "    cX = np.int32(M[\"m10\"]/M[\"m00\"])\n",
    "    cY = np.int32(M[\"m01\"]/M[\"m00\"])\n",
    "\n",
    "    # Translate Contour points\n",
    "    centroid = np.empty(contour_array.shape)\n",
    "    centroid[:,0] = cX\n",
    "    centroid[:,1] = cY\n",
    "    contour_array = contour_array - centroid\n",
    "\n",
    "    centroid = np.empty(polyg.shape)\n",
    "    centroid[:,0] = cX\n",
    "    centroid[:,1] = cY\n",
    "    polyg = polyg - centroid\n",
    "        \n",
    "    centroid = np.empty(eqdpt.shape)\n",
    "    centroid[:,0] = cX\n",
    "    centroid[:,1] = cY\n",
    "    \n",
    "    eqdpt = eqdpt - centroid\n",
    "    \n",
    "    return eqdpt, polyg, contour_array"
   ]
  },
  {
   "cell_type": "markdown",
   "metadata": {},
   "source": [
    "__find_FD 함수 설명__   \n",
    "* eqdpt 좌표군의 2차원 좌표를 복소수(complex)형태로 변환시킨다.   \n",
    "* 복소수로 표현된 좌표군 자료에 대해 FFT(Fast Fourier Transformation) 작업을 실시한다.   \n",
    "* FFT 작업은 np.fft.fft() 함수를 사용하였다.  \n",
    "참조: https://numpy.org/doc/stable/reference/generated/numpy.fft.fft.html   \n",
    "참조: https://ballentain.tistory.com/3   \n",
    "참조: github에서 관련 포스트가 있음.   \n",
    "\n",
    "* np.fft.fftshift() 함수를 사용하여 Zero-frequency에 해당하는 amplitude를 중앙으로 위치시킨다.\n",
    "참조: https://numpy.org/doc/stable/reference/generated/numpy.fft.fftshift.html#numpy.fft.fftshift   \n",
    "\n",
    "* 주의! sig_num 변수의 값이 Zero-freq 중앙값을 기준으로 좌우 몇개의 Fourier Descriptors를 추출할 것인지 정한다.  \n",
    "참조@깃허브: https://github.com/timfeirg/Fourier-Descriptors   "
   ]
  },
  {
   "cell_type": "code",
   "execution_count": 6,
   "metadata": {},
   "outputs": [],
   "source": [
    "def find_FD(eqdpt,sig_num):\n",
    "\n",
    "    # 푸리에 변환에 사용할 절점 g의 갯수 = M\n",
    "    M = len(eqdpt)    \n",
    "    \n",
    "    #2차원 Fourier 변환을 위한 준비(복소수형태로 좌표를 변환시킴) --> fft 변환 --> fourier_result에 coef값 저장\n",
    "    eqdpt_complex = np.empty(eqdpt.shape[:-1],dtype=complex)\n",
    "    eqdpt_complex.real = eqdpt[:,0]\n",
    "    eqdpt_complex.imag = eqdpt[:,1]\n",
    "\n",
    "    fft_result = np.fft.fft(eqdpt_complex)  # np.fft.fft로 구한 coef값은 1/M되지 않았다.\n",
    "    fft_result = fft_result/M  # 1/M로 나눠주었다.\n",
    "    fftshifted = np.fft.fftshift(fft_result)  # fftshift가 zero-freq를 중앙으로 위치시킨다.\n",
    "    \n",
    "    #sig_num 가 몇개를 추출할지 결정 (pair의 갯수임)\n",
    "    if (len(fftshifted) % 2) == 0:\n",
    "        center_index = len(fftshifted)/2\n",
    "    else:\n",
    "        center_index = (len(fftshifted)+1)/2\n",
    "    start = np.int32(center_index - sig_num)\n",
    "    end   = np.int32(center_index + sig_num) +1\n",
    "\n",
    "    #print('center,start,end=',center_index,start,end)\n",
    "    \n",
    "    G = fftshifted[start:end]  #start와 end 사이의 중앙값이 가장 큰 coef를 가진다.\n",
    "    \n",
    "    # Calculate Magnitude of Fourier Descriptor Coefficients\n",
    "    G_real = G.real\n",
    "    G_imag = G.imag\n",
    "    G_mag  = np.sqrt(G_real**2+G_imag**2)\n",
    "    \n",
    "    return G_mag, G_real, G_imag, fft_result, fftshifted"
   ]
  },
  {
   "cell_type": "markdown",
   "metadata": {},
   "source": [
    "__하나의 입자 이미지에 대해서 앞서 정리한 함수들을 순서대로 실행시킨다__   \n",
    "__FD를 분석하고, 그 결과를 df1, df2, df3에 담아서 내보낸다__   "
   ]
  },
  {
   "cell_type": "code",
   "execution_count": 7,
   "metadata": {},
   "outputs": [],
   "source": [
    "def dcfft(img_nm,numOfseg,sig_num):\n",
    "\n",
    "    thresh = fcall(img_nm)\n",
    "    \n",
    "    #입자 이미지의 경계면 좌표를 찾는다.\n",
    "    contour_array, polyg, eqdia = find_a_contour(thresh)\n",
    "    \n",
    "    print(img_nm,eqdia,'Equ_dia')\n",
    "    \n",
    "    #앞서 얻은 경계면 좌표 간격은 일정하지 않다. 이를 일정한 간격이 되도록 좌표를 다시 찾는다.\n",
    "    #numOfSegments = by input param   #등간격 세그먼트의 숫자를 지정한다. 2^n 으로 지정\n",
    "    eqdpt = find_eqdpt(polyg, numOfseg)\n",
    "    \n",
    "    #좌표군들의 도심이 원점이 되도록 이동(translation)시킨다.\n",
    "    eqdpt, polyg, contour_array = trans_eqdpt(eqdpt, polyg, contour_array)\n",
    "\n",
    "    #FFT를 실시하여 Fourier Descriptor를 찾는다.\n",
    "    #sig_num = by input param         #중심을 기준으로 추출할 FD의 갯수를 정한다.\n",
    "    idx = pd.DataFrame({'idx':np.arange(-sig_num,sig_num+1)})\n",
    "    \n",
    "    a,b,c,d,e = find_FD(eqdpt,sig_num)\n",
    "    \n",
    "    df1 = pd.DataFrame({'mag':a,'real':b,'imag':c})\n",
    "    df2 = pd.DataFrame({'fft_result':d,'fftshift_result':e})\n",
    "    df3 = pd.DataFrame({'x0':eqdpt[:,0],'y0':eqdpt[:,1]})\n",
    "    \n",
    "    return df1, df2, df3, eqdia"
   ]
  },
  {
   "cell_type": "code",
   "execution_count": 8,
   "metadata": {},
   "outputs": [],
   "source": [
    "def fdrecon(title,N,sig_num,real,imag):\n",
    "    \n",
    "    x1 = []\n",
    "    y1 = []\n",
    "    \n",
    "    for k in np.arange(0,N,1):\n",
    "        t = k/N\n",
    "        x = 0\n",
    "        y = 0\n",
    "\n",
    "        for m in np.arange(-sig_num,sig_num+1):\n",
    "            phi = 2 * np.pi * m * t\n",
    "        \n",
    "            A = real.loc[m,title]\n",
    "            B = imag.loc[m,title]\n",
    "        \n",
    "            x += A*np.cos(phi)-B*np.sin(phi)\n",
    "            y += A*np.sin(phi)+B*np.cos(phi) #다시 원래 xy좌표계로 변환하는 부분#\n",
    "    \n",
    "        x1.append(x)\n",
    "        y1.append(y)\n",
    "    \n",
    "    df = pd.DataFrame({'x1':x1,'y1':y1})\n",
    "    \n",
    "    return df    "
   ]
  },
  {
   "cell_type": "markdown",
   "metadata": {},
   "source": [
    "__일괄처리 명령어 부분이다__\n",
    "* 디렉토리 내에 있는 입자 이미지 파일들을 읽어들여서 Fourier descriptor 처리를 진행한다.\n",
    "* 주의! 이미지 배경이 흑백인지 흰색인지 확인할것! --> fcall 함수 내용 확인\n",
    "* 주의! 확장자가 jpg인지 png인지 확인할 것! --> fcall 함수 내용 확인"
   ]
  },
  {
   "cell_type": "code",
   "execution_count": 9,
   "metadata": {},
   "outputs": [],
   "source": [
    "numOfseg = 128   #[중요] 등간격 세그먼트의 숫자를 지정한다. 2^n 으로 지정\n",
    "sig_num = 20      #[중요] Zero-Freq 중심을 기준으로 아래 위로 추출할 FD의 갯수를 정한다. (Pair의 숫자임)"
   ]
  },
  {
   "cell_type": "code",
   "execution_count": 10,
   "metadata": {
    "tags": []
   },
   "outputs": [
    {
     "name": "stdout",
     "output_type": "stream",
     "text": [
      "[10]_re\n",
      "[10]_re 899.6589813993234 Equ_dia\n",
      "[1]_re\n",
      "[1]_re 969.1650571119475 Equ_dia\n",
      "[4]_re\n",
      "[4]_re 1200.8952546325788 Equ_dia\n",
      "[5]_re\n",
      "[5]_re 897.366899815928 Equ_dia\n",
      "[6]_re\n",
      "[6]_re 1143.1614298202553 Equ_dia\n",
      "[7]_re\n",
      "[7]_re 1030.8239314029527 Equ_dia\n",
      "[8]_re\n",
      "[8]_re 948.1490895711343 Equ_dia\n",
      "[9]_re\n",
      "[9]_re 1425.6500323847686 Equ_dia\n"
     ]
    }
   ],
   "source": [
    "import glob\n",
    "mylist = [f for f in sorted(glob.glob(\"*.png\"))]  #읽어들일 파일의 확장자 확인할것\n",
    "\n",
    "mag = pd.DataFrame({'idx':np.arange(-sig_num,sig_num+1)})\n",
    "real = mag\n",
    "imag = mag\n",
    "\n",
    "x0 = pd.DataFrame()\n",
    "y0 = pd.DataFrame()\n",
    "eqdia = pd.DataFrame()\n",
    "\n",
    "for img_nm in mylist[:]:\n",
    "    print(img_nm[:-4])\n",
    "    title = img_nm[:-4]\n",
    "    df1,df2,df3,eqd = dcfft(title,numOfseg,sig_num)\n",
    "    mag  = pd.concat([mag, df1['mag']],axis=1)\n",
    "    real = pd.concat([real,df1['real']],axis=1)\n",
    "    imag = pd.concat([imag,df1['imag']],axis=1)\n",
    "    x0 = pd.concat([x0,df3['x0']],axis=1)\n",
    "    y0 = pd.concat([y0,df3['y0']],axis=1)\n",
    "    d = pd.DataFrame([eqd])\n",
    "    eqdia = pd.concat([eqdia,d],axis=1)\n",
    "    \n",
    "mag = mag.set_index('idx')    \n",
    "real = real.set_index('idx')\n",
    "imag = imag.set_index('idx')\n",
    "\n",
    "mag.columns = mylist\n",
    "real.columns = mylist\n",
    "imag.columns = mylist\n",
    "x0.columns = mylist\n",
    "y0.columns = mylist\n",
    "eqdia.columns = mylist\n",
    "\n",
    "#display(mag,real,imag)"
   ]
  },
  {
   "cell_type": "markdown",
   "metadata": {},
   "source": [
    "__얻은 FD의 평균값을 가지고 입자 형상을 재구성(reconstruct)한다__   "
   ]
  },
  {
   "cell_type": "code",
   "execution_count": 11,
   "metadata": {},
   "outputs": [],
   "source": [
    "N = numOfseg #<-- 새로 재구성할 윤곽선 점의 갯수. Error 측정하려면 N = numOfseg로 맞춰야 한다.\n",
    "Mp = sig_num\n",
    "\n",
    "x1 = pd.DataFrame()\n",
    "y1 = pd.DataFrame()\n",
    "\n",
    "for img_nm in mylist[:]:\n",
    "    #각 이미지에 대한 Fourier descriptor로 윤곽선을 재구성한다.\n",
    "    dfxy1 = fdrecon(img_nm,N,sig_num,real,imag)\n",
    "    x1 = pd.concat([x1, dfxy1['x1']],axis=1)   \n",
    "    y1 = pd.concat([y1, dfxy1['y1']],axis=1)   \n",
    "\n",
    "x1.columns = mylist\n",
    "y1.columns = mylist    \n",
    "    "
   ]
  },
  {
   "cell_type": "code",
   "execution_count": 12,
   "metadata": {},
   "outputs": [],
   "source": [
    "def fdcircle(title,N,sig_num,real,imag):\n",
    "    \n",
    "    x1 = []\n",
    "    y1 = []\n",
    "    \n",
    "    for k in np.arange(0,N,1):\n",
    "        t = k/N\n",
    "        x = 0\n",
    "        y = 0\n",
    "\n",
    "        for m in [0.5]:\n",
    "\n",
    "            phi = 2 * np.pi * m * t\n",
    "        \n",
    "            A = real.loc[:,title]\n",
    "            B = imag.loc[:,title]\n",
    "\n",
    "            A = A.iloc[A.index==m]\n",
    "            B = B.iloc[B.index==m]\n",
    "            \n",
    "            x += A*np.cos(phi)-B*np.sin(phi)\n",
    "            y += A*np.sin(phi)+B*np.cos(phi)\n",
    "            \n",
    "        x1.append(x)\n",
    "        y1.append(y)\n",
    "    \n",
    "    dfxyc = pd.DataFrame({'x1':x1,'y1':y1})\n",
    "    \n",
    "    return dfxyc "
   ]
  },
  {
   "cell_type": "code",
   "execution_count": 13,
   "metadata": {},
   "outputs": [],
   "source": [
    "N = numOfseg #<-- 새로 재구성할 윤곽선 점의 갯수. Error 측정하려면 N = numOfseg로 맞춰야 한다.\n",
    "Mp = sig_num\n",
    "\n",
    "x1c = pd.DataFrame()\n",
    "y1c = pd.DataFrame()\n",
    "\n",
    "for img_nm in mylist[:]:\n",
    "    #각 이미지에 대한 Fourier descriptor로 윤곽선을 재구성한다.\n",
    "    dfxyc = fdcircle(img_nm,N,sig_num,real,imag)\n",
    "    x1c = pd.concat([x1c, dfxyc['x1']],axis=1)   \n",
    "    y1c = pd.concat([y1c, dfxyc['y1']],axis=1)   \n",
    "\n",
    "x1c.columns = mylist\n",
    "y1c.columns = mylist  "
   ]
  },
  {
   "cell_type": "code",
   "execution_count": 14,
   "metadata": {},
   "outputs": [
    {
     "ename": "ValueError",
     "evalue": "setting an array element with a sequence.",
     "output_type": "error",
     "traceback": [
      "\u001b[1;31m---------------------------------------------------------------------------\u001b[0m",
      "\u001b[1;31mTypeError\u001b[0m                                 Traceback (most recent call last)",
      "File \u001b[1;32mC:\\anaconda3\\lib\\site-packages\\pandas\\core\\series.py:206\u001b[0m, in \u001b[0;36m_coerce_method.<locals>.wrapper\u001b[1;34m(self)\u001b[0m\n\u001b[0;32m    205\u001b[0m     \u001b[38;5;28;01mreturn\u001b[39;00m converter(\u001b[38;5;28mself\u001b[39m\u001b[38;5;241m.\u001b[39miloc[\u001b[38;5;241m0\u001b[39m])\n\u001b[1;32m--> 206\u001b[0m \u001b[38;5;28;01mraise\u001b[39;00m \u001b[38;5;167;01mTypeError\u001b[39;00m(\u001b[38;5;124mf\u001b[39m\u001b[38;5;124m\"\u001b[39m\u001b[38;5;124mcannot convert the series to \u001b[39m\u001b[38;5;132;01m{\u001b[39;00mconverter\u001b[38;5;132;01m}\u001b[39;00m\u001b[38;5;124m\"\u001b[39m)\n",
      "\u001b[1;31mTypeError\u001b[0m: cannot convert the series to <class 'float'>",
      "\nThe above exception was the direct cause of the following exception:\n",
      "\u001b[1;31mValueError\u001b[0m                                Traceback (most recent call last)",
      "Cell \u001b[1;32mIn[14], line 11\u001b[0m\n\u001b[0;32m      8\u001b[0m     c \u001b[38;5;241m=\u001b[39m \u001b[38;5;28mnext\u001b[39m(color)\n\u001b[0;32m      9\u001b[0m     l1,\u001b[38;5;241m=\u001b[39maxs3\u001b[38;5;241m.\u001b[39mplot(x0\u001b[38;5;241m.\u001b[39miloc[:,n], y0\u001b[38;5;241m.\u001b[39miloc[:,n], label\u001b[38;5;241m=\u001b[39m\u001b[38;5;124m'\u001b[39m\u001b[38;5;124m \u001b[39m\u001b[38;5;124m'\u001b[39m, linestyle\u001b[38;5;241m=\u001b[39m\u001b[38;5;124m'\u001b[39m\u001b[38;5;124m-\u001b[39m\u001b[38;5;124m'\u001b[39m, color\u001b[38;5;241m=\u001b[39mc, \n\u001b[0;32m     10\u001b[0m              marker\u001b[38;5;241m=\u001b[39m\u001b[38;5;124m'\u001b[39m\u001b[38;5;124m+\u001b[39m\u001b[38;5;124m'\u001b[39m, markersize\u001b[38;5;241m=\u001b[39m\u001b[38;5;241m5\u001b[39m, markerfacecolor\u001b[38;5;241m=\u001b[39m\u001b[38;5;124m'\u001b[39m\u001b[38;5;124mr\u001b[39m\u001b[38;5;124m'\u001b[39m,linewidth\u001b[38;5;241m=\u001b[39m\u001b[38;5;241m0\u001b[39m)\n\u001b[1;32m---> 11\u001b[0m     l2,\u001b[38;5;241m=\u001b[39m\u001b[43maxs3\u001b[49m\u001b[38;5;241;43m.\u001b[39;49m\u001b[43mplot\u001b[49m\u001b[43m(\u001b[49m\u001b[43mx1c\u001b[49m\u001b[38;5;241;43m.\u001b[39;49m\u001b[43miloc\u001b[49m\u001b[43m[\u001b[49m\u001b[43m:\u001b[49m\u001b[43m,\u001b[49m\u001b[43mn\u001b[49m\u001b[43m]\u001b[49m\u001b[43m,\u001b[49m\u001b[43m \u001b[49m\u001b[43my1c\u001b[49m\u001b[38;5;241;43m.\u001b[39;49m\u001b[43miloc\u001b[49m\u001b[43m[\u001b[49m\u001b[43m:\u001b[49m\u001b[43m,\u001b[49m\u001b[43mn\u001b[49m\u001b[43m]\u001b[49m\u001b[43m,\u001b[49m\u001b[43m \u001b[49m\u001b[43mlabel\u001b[49m\u001b[38;5;241;43m=\u001b[39;49m\u001b[38;5;124;43m'\u001b[39;49m\u001b[38;5;124;43m \u001b[39;49m\u001b[38;5;124;43m'\u001b[39;49m\u001b[43m,\u001b[49m\u001b[43m \u001b[49m\u001b[43mlinestyle\u001b[49m\u001b[38;5;241;43m=\u001b[39;49m\u001b[38;5;124;43m'\u001b[39;49m\u001b[38;5;124;43m-\u001b[39;49m\u001b[38;5;124;43m'\u001b[39;49m\u001b[43m,\u001b[49m\u001b[43m \u001b[49m\u001b[43mcolor\u001b[49m\u001b[38;5;241;43m=\u001b[39;49m\u001b[43mc\u001b[49m\u001b[43m,\u001b[49m\u001b[43m \u001b[49m\n\u001b[0;32m     12\u001b[0m \u001b[43m             \u001b[49m\u001b[43mmarker\u001b[49m\u001b[38;5;241;43m=\u001b[39;49m\u001b[38;5;124;43m'\u001b[39;49m\u001b[38;5;124;43mx\u001b[39;49m\u001b[38;5;124;43m'\u001b[39;49m\u001b[43m,\u001b[49m\u001b[43m \u001b[49m\u001b[43mmarkersize\u001b[49m\u001b[38;5;241;43m=\u001b[39;49m\u001b[38;5;241;43m1\u001b[39;49m\u001b[43m,\u001b[49m\u001b[43m \u001b[49m\u001b[43mmarkerfacecolor\u001b[49m\u001b[38;5;241;43m=\u001b[39;49m\u001b[38;5;124;43m'\u001b[39;49m\u001b[38;5;124;43mr\u001b[39;49m\u001b[38;5;124;43m'\u001b[39;49m\u001b[43m,\u001b[49m\u001b[43mlinewidth\u001b[49m\u001b[38;5;241;43m=\u001b[39;49m\u001b[38;5;241;43m1\u001b[39;49m\u001b[43m)\u001b[49m\n\u001b[0;32m     14\u001b[0m axs3\u001b[38;5;241m.\u001b[39mtick_params(axis\u001b[38;5;241m=\u001b[39m\u001b[38;5;124m\"\u001b[39m\u001b[38;5;124mx\u001b[39m\u001b[38;5;124m\"\u001b[39m, labelsize\u001b[38;5;241m=\u001b[39m\u001b[38;5;241m20\u001b[39m)\n\u001b[0;32m     15\u001b[0m axs3\u001b[38;5;241m.\u001b[39mtick_params(axis\u001b[38;5;241m=\u001b[39m\u001b[38;5;124m\"\u001b[39m\u001b[38;5;124my\u001b[39m\u001b[38;5;124m\"\u001b[39m, labelsize\u001b[38;5;241m=\u001b[39m\u001b[38;5;241m20\u001b[39m)\n",
      "File \u001b[1;32mC:\\anaconda3\\lib\\site-packages\\matplotlib\\axes\\_axes.py:1690\u001b[0m, in \u001b[0;36mAxes.plot\u001b[1;34m(self, scalex, scaley, data, *args, **kwargs)\u001b[0m\n\u001b[0;32m   1688\u001b[0m lines \u001b[38;5;241m=\u001b[39m [\u001b[38;5;241m*\u001b[39m\u001b[38;5;28mself\u001b[39m\u001b[38;5;241m.\u001b[39m_get_lines(\u001b[38;5;241m*\u001b[39margs, data\u001b[38;5;241m=\u001b[39mdata, \u001b[38;5;241m*\u001b[39m\u001b[38;5;241m*\u001b[39mkwargs)]\n\u001b[0;32m   1689\u001b[0m \u001b[38;5;28;01mfor\u001b[39;00m line \u001b[38;5;129;01min\u001b[39;00m lines:\n\u001b[1;32m-> 1690\u001b[0m     \u001b[38;5;28;43mself\u001b[39;49m\u001b[38;5;241;43m.\u001b[39;49m\u001b[43madd_line\u001b[49m\u001b[43m(\u001b[49m\u001b[43mline\u001b[49m\u001b[43m)\u001b[49m\n\u001b[0;32m   1691\u001b[0m \u001b[38;5;28;01mif\u001b[39;00m scalex:\n\u001b[0;32m   1692\u001b[0m     \u001b[38;5;28mself\u001b[39m\u001b[38;5;241m.\u001b[39m_request_autoscale_view(\u001b[38;5;124m\"\u001b[39m\u001b[38;5;124mx\u001b[39m\u001b[38;5;124m\"\u001b[39m)\n",
      "File \u001b[1;32mC:\\anaconda3\\lib\\site-packages\\matplotlib\\axes\\_base.py:2304\u001b[0m, in \u001b[0;36m_AxesBase.add_line\u001b[1;34m(self, line)\u001b[0m\n\u001b[0;32m   2301\u001b[0m \u001b[38;5;28;01mif\u001b[39;00m line\u001b[38;5;241m.\u001b[39mget_clip_path() \u001b[38;5;129;01mis\u001b[39;00m \u001b[38;5;28;01mNone\u001b[39;00m:\n\u001b[0;32m   2302\u001b[0m     line\u001b[38;5;241m.\u001b[39mset_clip_path(\u001b[38;5;28mself\u001b[39m\u001b[38;5;241m.\u001b[39mpatch)\n\u001b[1;32m-> 2304\u001b[0m \u001b[38;5;28;43mself\u001b[39;49m\u001b[38;5;241;43m.\u001b[39;49m\u001b[43m_update_line_limits\u001b[49m\u001b[43m(\u001b[49m\u001b[43mline\u001b[49m\u001b[43m)\u001b[49m\n\u001b[0;32m   2305\u001b[0m \u001b[38;5;28;01mif\u001b[39;00m \u001b[38;5;129;01mnot\u001b[39;00m line\u001b[38;5;241m.\u001b[39mget_label():\n\u001b[0;32m   2306\u001b[0m     line\u001b[38;5;241m.\u001b[39mset_label(\u001b[38;5;124mf\u001b[39m\u001b[38;5;124m'\u001b[39m\u001b[38;5;124m_child\u001b[39m\u001b[38;5;132;01m{\u001b[39;00m\u001b[38;5;28mlen\u001b[39m(\u001b[38;5;28mself\u001b[39m\u001b[38;5;241m.\u001b[39m_children)\u001b[38;5;132;01m}\u001b[39;00m\u001b[38;5;124m'\u001b[39m)\n",
      "File \u001b[1;32mC:\\anaconda3\\lib\\site-packages\\matplotlib\\axes\\_base.py:2327\u001b[0m, in \u001b[0;36m_AxesBase._update_line_limits\u001b[1;34m(self, line)\u001b[0m\n\u001b[0;32m   2323\u001b[0m \u001b[38;5;28;01mdef\u001b[39;00m \u001b[38;5;21m_update_line_limits\u001b[39m(\u001b[38;5;28mself\u001b[39m, line):\n\u001b[0;32m   2324\u001b[0m     \u001b[38;5;124;03m\"\"\"\u001b[39;00m\n\u001b[0;32m   2325\u001b[0m \u001b[38;5;124;03m    Figures out the data limit of the given line, updating self.dataLim.\u001b[39;00m\n\u001b[0;32m   2326\u001b[0m \u001b[38;5;124;03m    \"\"\"\u001b[39;00m\n\u001b[1;32m-> 2327\u001b[0m     path \u001b[38;5;241m=\u001b[39m \u001b[43mline\u001b[49m\u001b[38;5;241;43m.\u001b[39;49m\u001b[43mget_path\u001b[49m\u001b[43m(\u001b[49m\u001b[43m)\u001b[49m\n\u001b[0;32m   2328\u001b[0m     \u001b[38;5;28;01mif\u001b[39;00m path\u001b[38;5;241m.\u001b[39mvertices\u001b[38;5;241m.\u001b[39msize \u001b[38;5;241m==\u001b[39m \u001b[38;5;241m0\u001b[39m:\n\u001b[0;32m   2329\u001b[0m         \u001b[38;5;28;01mreturn\u001b[39;00m\n",
      "File \u001b[1;32mC:\\anaconda3\\lib\\site-packages\\matplotlib\\lines.py:1029\u001b[0m, in \u001b[0;36mLine2D.get_path\u001b[1;34m(self)\u001b[0m\n\u001b[0;32m   1027\u001b[0m \u001b[38;5;124;03m\"\"\"Return the `~matplotlib.path.Path` associated with this line.\"\"\"\u001b[39;00m\n\u001b[0;32m   1028\u001b[0m \u001b[38;5;28;01mif\u001b[39;00m \u001b[38;5;28mself\u001b[39m\u001b[38;5;241m.\u001b[39m_invalidy \u001b[38;5;129;01mor\u001b[39;00m \u001b[38;5;28mself\u001b[39m\u001b[38;5;241m.\u001b[39m_invalidx:\n\u001b[1;32m-> 1029\u001b[0m     \u001b[38;5;28;43mself\u001b[39;49m\u001b[38;5;241;43m.\u001b[39;49m\u001b[43mrecache\u001b[49m\u001b[43m(\u001b[49m\u001b[43m)\u001b[49m\n\u001b[0;32m   1030\u001b[0m \u001b[38;5;28;01mreturn\u001b[39;00m \u001b[38;5;28mself\u001b[39m\u001b[38;5;241m.\u001b[39m_path\n",
      "File \u001b[1;32mC:\\anaconda3\\lib\\site-packages\\matplotlib\\lines.py:657\u001b[0m, in \u001b[0;36mLine2D.recache\u001b[1;34m(self, always)\u001b[0m\n\u001b[0;32m    655\u001b[0m \u001b[38;5;28;01mif\u001b[39;00m always \u001b[38;5;129;01mor\u001b[39;00m \u001b[38;5;28mself\u001b[39m\u001b[38;5;241m.\u001b[39m_invalidx:\n\u001b[0;32m    656\u001b[0m     xconv \u001b[38;5;241m=\u001b[39m \u001b[38;5;28mself\u001b[39m\u001b[38;5;241m.\u001b[39mconvert_xunits(\u001b[38;5;28mself\u001b[39m\u001b[38;5;241m.\u001b[39m_xorig)\n\u001b[1;32m--> 657\u001b[0m     x \u001b[38;5;241m=\u001b[39m \u001b[43m_to_unmasked_float_array\u001b[49m\u001b[43m(\u001b[49m\u001b[43mxconv\u001b[49m\u001b[43m)\u001b[49m\u001b[38;5;241m.\u001b[39mravel()\n\u001b[0;32m    658\u001b[0m \u001b[38;5;28;01melse\u001b[39;00m:\n\u001b[0;32m    659\u001b[0m     x \u001b[38;5;241m=\u001b[39m \u001b[38;5;28mself\u001b[39m\u001b[38;5;241m.\u001b[39m_x\n",
      "File \u001b[1;32mC:\\anaconda3\\lib\\site-packages\\matplotlib\\cbook\\__init__.py:1335\u001b[0m, in \u001b[0;36m_to_unmasked_float_array\u001b[1;34m(x)\u001b[0m\n\u001b[0;32m   1333\u001b[0m     \u001b[38;5;28;01mreturn\u001b[39;00m np\u001b[38;5;241m.\u001b[39mma\u001b[38;5;241m.\u001b[39masarray(x, \u001b[38;5;28mfloat\u001b[39m)\u001b[38;5;241m.\u001b[39mfilled(np\u001b[38;5;241m.\u001b[39mnan)\n\u001b[0;32m   1334\u001b[0m \u001b[38;5;28;01melse\u001b[39;00m:\n\u001b[1;32m-> 1335\u001b[0m     \u001b[38;5;28;01mreturn\u001b[39;00m \u001b[43mnp\u001b[49m\u001b[38;5;241;43m.\u001b[39;49m\u001b[43masarray\u001b[49m\u001b[43m(\u001b[49m\u001b[43mx\u001b[49m\u001b[43m,\u001b[49m\u001b[43m \u001b[49m\u001b[38;5;28;43mfloat\u001b[39;49m\u001b[43m)\u001b[49m\n",
      "\u001b[1;31mValueError\u001b[0m: setting an array element with a sequence."
     ]
    },
    {
     "data": {
      "image/png": "[encoded data removed]",
      "text/plain": [
       "<Figure size 640x480 with 1 Axes>"
      ]
     },
     "metadata": {},
     "output_type": "display_data"
    }
   ],
   "source": [
    "fig, axs3 = plt.subplots()\n",
    "plt.rc('font', family='Arial') \n",
    "plt.rcParams[\"figure.figsize\"] = (10, 10)\n",
    "axs3.set_aspect('equal')\n",
    "color=iter(cm.rainbow(np.linspace(0,1,len(mylist[:]))))\n",
    "\n",
    "for n in np.arange(0,len(mylist)):\n",
    "    c = next(color)\n",
    "    l1,=axs3.plot(x0.iloc[:,n], y0.iloc[:,n], label=' ', linestyle='-', color=c, \n",
    "             marker='+', markersize=5, markerfacecolor='r',linewidth=0)\n",
    "    l2,=axs3.plot(x1c.iloc[:,n], y1c.iloc[:,n], label=' ', linestyle='-', color=c, \n",
    "             marker='x', markersize=1, markerfacecolor='r',linewidth=1)\n",
    "\n",
    "axs3.tick_params(axis=\"x\", labelsize=20)\n",
    "axs3.tick_params(axis=\"y\", labelsize=20)\n",
    "\n",
    "plt.xlabel('x',fontsize=20)\n",
    "plt.ylabel('y',fontsize=20)\n",
    "plt.grid(True)\n",
    "#plt.savefig('fig-.png',dpi=300,bbox_inches='tight')\n",
    "plt.show()"
   ]
  }
 ],
 "metadata": {
  "kernelspec": {
   "display_name": "Python 3 (ipykernel)",
   "language": "python",
   "name": "python3"
  },
  "language_info": {
   "codemirror_mode": {
    "name": "ipython",
    "version": 3
   },
   "file_extension": ".py",
   "mimetype": "text/x-python",
   "name": "python",
   "nbconvert_exporter": "python",
   "pygments_lexer": "ipython3",
   "version": "3.10.9"
  }
 },
 "nbformat": 4,
 "nbformat_minor": 4
}
